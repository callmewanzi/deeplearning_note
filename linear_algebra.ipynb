{
 "cells": [
  {
   "cell_type": "code",
   "execution_count": 2,
   "id": "fafcb14c-cc7d-4fd6-9372-912782ee798f",
   "metadata": {},
   "outputs": [],
   "source": [
    "import torch"
   ]
  },
  {
   "cell_type": "code",
   "execution_count": 4,
   "id": "768868cf-cd58-426a-a8ea-7ae3e0134dd2",
   "metadata": {},
   "outputs": [
    {
     "data": {
      "text/plain": [
       "tensor([[ 0,  1,  2,  3],\n",
       "        [ 4,  5,  6,  7],\n",
       "        [ 8,  9, 10, 11],\n",
       "        [12, 13, 14, 15],\n",
       "        [16, 17, 18, 19]])"
      ]
     },
     "execution_count": 4,
     "metadata": {},
     "output_type": "execute_result"
    }
   ],
   "source": [
    "A=torch.arange(20).reshape(5,4)\n",
    "A"
   ]
  },
  {
   "cell_type": "code",
   "execution_count": 7,
   "id": "1affc34c-2bea-4fd1-9fe2-4a06d1965c1c",
   "metadata": {},
   "outputs": [
    {
     "data": {
      "text/plain": [
       "tensor([[ 0,  4,  8, 12, 16],\n",
       "        [ 1,  5,  9, 13, 17],\n",
       "        [ 2,  6, 10, 14, 18],\n",
       "        [ 3,  7, 11, 15, 19]])"
      ]
     },
     "execution_count": 7,
     "metadata": {},
     "output_type": "execute_result"
    }
   ],
   "source": [
    "A.T\n"
   ]
  },
  {
   "cell_type": "code",
   "execution_count": 19,
   "id": "6bce773f-4401-4f09-b47a-9002e6d38dca",
   "metadata": {},
   "outputs": [
    {
     "data": {
      "text/plain": [
       "tensor([[ 0,  1,  2,  3,  4,  5,  6,  7,  8],\n",
       "        [ 9, 10, 11, 12, 13, 14, 15, 16, 17]])"
      ]
     },
     "execution_count": 19,
     "metadata": {},
     "output_type": "execute_result"
    }
   ],
   "source": [
    "X=torch.arange(18).reshape(2,9)\n",
    "Y=X.clone()\n",
    "Y"
   ]
  },
  {
   "cell_type": "code",
   "execution_count": 28,
   "id": "5d3a992f-1721-4d18-a70d-ddbd05223653",
   "metadata": {},
   "outputs": [
    {
     "data": {
      "text/plain": [
       "(tensor([ 36, 117]), torch.Size([2]))"
      ]
     },
     "execution_count": 28,
     "metadata": {},
     "output_type": "execute_result"
    }
   ],
   "source": [
    "x=X.sum(axis=1)#沿着一个轴计算，如axis=0则按行相加\n",
    "#axis=？则将第？维的数删掉\n",
    "x,x.shape"
   ]
  },
  {
   "cell_type": "code",
   "execution_count": 55,
   "id": "acde059b-4a2c-4588-a1bf-6bd40b2b427a",
   "metadata": {},
   "outputs": [],
   "source": [
    "#沿两个维度求和,最后求和得到的矩阵形如未等于的其他维度\n",
    "A=torch.arange(20*2,dtype=int).reshape(2,5,2,2)\n",
    "A.shape,A\n",
    "A=A.float()"
   ]
  },
  {
   "cell_type": "code",
   "execution_count": 57,
   "id": "83e624c8-cc06-4aa4-b69b-9440196271a4",
   "metadata": {
    "scrolled": true
   },
   "outputs": [
    {
     "data": {
      "text/plain": [
       "(torch.Size([2, 2]), tensor(19.5000))"
      ]
     },
     "execution_count": 57,
     "metadata": {},
     "output_type": "execute_result"
    }
   ],
   "source": [
    "x=A.sum(axis=[0,1])\n",
    "\n",
    "x.shape,A.mean()"
   ]
  },
  {
   "cell_type": "code",
   "execution_count": 58,
   "id": "e779463f-72e4-4e4a-a807-7171d79fef0a",
   "metadata": {},
   "outputs": [
    {
     "data": {
      "text/plain": [
       "tensor([[[[ 0.,  1.],\n",
       "          [ 2.,  3.]],\n",
       "\n",
       "         [[ 4.,  5.],\n",
       "          [ 6.,  7.]],\n",
       "\n",
       "         [[ 8.,  9.],\n",
       "          [10., 11.]],\n",
       "\n",
       "         [[12., 13.],\n",
       "          [14., 15.]],\n",
       "\n",
       "         [[16., 17.],\n",
       "          [18., 19.]]],\n",
       "\n",
       "\n",
       "        [[[20., 21.],\n",
       "          [22., 23.]],\n",
       "\n",
       "         [[24., 25.],\n",
       "          [26., 27.]],\n",
       "\n",
       "         [[28., 29.],\n",
       "          [30., 31.]],\n",
       "\n",
       "         [[32., 33.],\n",
       "          [34., 35.]],\n",
       "\n",
       "         [[36., 37.],\n",
       "          [38., 39.]]]])"
      ]
     },
     "execution_count": 58,
     "metadata": {},
     "output_type": "execute_result"
    }
   ],
   "source": [
    "A"
   ]
  },
  {
   "cell_type": "code",
   "execution_count": 61,
   "id": "e2697113-38cf-4f4a-b5af-2d6dd48c058e",
   "metadata": {},
   "outputs": [
    {
     "data": {
      "text/plain": [
       "(tensor([[[[ 40.,  45.],\n",
       "           [ 50.,  55.]]],\n",
       " \n",
       " \n",
       "         [[[140., 145.],\n",
       "           [150., 155.]]]]),\n",
       " torch.Size([2, 1, 2, 2]),\n",
       " torch.Size([2, 5, 2, 2]))"
      ]
     },
     "execution_count": 61,
     "metadata": {},
     "output_type": "execute_result"
    }
   ],
   "source": [
    "#我们可以(通过广播将A除以sum_A),那么前提就是在调用函数sum时保持轴数不变\n",
    "sum_A=A.sum(axis=1,keepdims=True)\n",
    "sum_A,sum_A.shape,A.shape"
   ]
  },
  {
   "cell_type": "code",
   "execution_count": 78,
   "id": "4f3d3dc1-611a-4b81-8df3-0e4c4f5d614d",
   "metadata": {},
   "outputs": [
    {
     "data": {
      "text/plain": [
       "(tensor([0., 1., 2., 3.]), tensor([1., 1., 1., 1.]), tensor(6.), tensor(6.))"
      ]
     },
     "execution_count": 78,
     "metadata": {},
     "output_type": "execute_result"
    }
   ],
   "source": [
    "#点积dot product\n",
    "#要注意两个向量的点积要保证数据类型dtype相同\n",
    "x=torch.arange(4,dtype=torch.float32)\n",
    "y=torch.ones(4,dtype=torch.float32)\n",
    "x,y,torch.dot(x,y),torch.sum(x*y)"
   ]
  },
  {
   "cell_type": "code",
   "execution_count": 79,
   "id": "b128b3cf-2c91-40ac-987c-783545ff985d",
   "metadata": {},
   "outputs": [],
   "source": [
    "#线性代数中最有用的一些运算符是范数（norm）。 非正式地说，向量的范数是表示一个向量有多大。 这里考虑的大小（size）概念不涉及维度，而是分量的大小。\n",
    "#欧几里得距离是L2范数，更常用的是L1范数，表示为向量元素的绝对值之和"
   ]
  },
  {
   "cell_type": "code",
   "execution_count": 90,
   "id": "9dc3f254-0ac2-4d11-8305-1d7be1e10d58",
   "metadata": {},
   "outputs": [
    {
     "data": {
      "text/plain": [
       "tensor(5.)"
      ]
     },
     "execution_count": 90,
     "metadata": {},
     "output_type": "execute_result"
    }
   ],
   "source": [
    "#L2范数\n",
    "u = torch.tensor([3.0, -4.0])\n",
    "torch.norm(u)"
   ]
  },
  {
   "cell_type": "code",
   "execution_count": 91,
   "id": "75b0fdef-fd8e-410a-ba3b-2b13c74d93c6",
   "metadata": {},
   "outputs": [
    {
     "data": {
      "text/plain": [
       "tensor(7.)"
      ]
     },
     "execution_count": 91,
     "metadata": {},
     "output_type": "execute_result"
    }
   ],
   "source": [
    "#L1范数,元素绝对值之和\n",
    "torch.abs(u).sum()"
   ]
  },
  {
   "cell_type": "code",
   "execution_count": 92,
   "id": "bc310d2e-1e0b-4cfa-9c83-119b59d97b99",
   "metadata": {},
   "outputs": [
    {
     "data": {
      "text/plain": [
       "tensor(10.3923)"
      ]
     },
     "execution_count": 92,
     "metadata": {},
     "output_type": "execute_result"
    }
   ],
   "source": [
    "#对于矩阵\n",
    "#frobenius norm佛罗贝尼斯范数\n",
    "#[矩阵](的Frobenius范数（Frobenius norm）是矩阵元素平方和的平方根：\n",
    "torch.ones((3,4,9))\n",
    "torch.norm(torch.ones((3,4,9)))"
   ]
  },
  {
   "cell_type": "code",
   "execution_count": null,
   "id": "5f2cb0ed-0b89-46be-bb8d-f3e48190198a",
   "metadata": {},
   "outputs": [],
   "source": [
    "#computing matrix\n",
    "  "
   ]
  }
 ],
 "metadata": {
  "kernelspec": {
   "display_name": "Python 3 (ipykernel)",
   "language": "python",
   "name": "python3"
  },
  "language_info": {
   "codemirror_mode": {
    "name": "ipython",
    "version": 3
   },
   "file_extension": ".py",
   "mimetype": "text/x-python",
   "name": "python",
   "nbconvert_exporter": "python",
   "pygments_lexer": "ipython3",
   "version": "3.9.7"
  }
 },
 "nbformat": 4,
 "nbformat_minor": 5
}
